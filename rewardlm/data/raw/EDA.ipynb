{
 "cells": [
  {
   "cell_type": "code",
   "execution_count": 1,
   "metadata": {},
   "outputs": [],
   "source": [
    "import pandas as pd"
   ]
  },
  {
   "attachments": {},
   "cell_type": "markdown",
   "metadata": {},
   "source": [
    "## EDA"
   ]
  },
  {
   "cell_type": "code",
   "execution_count": 5,
   "metadata": {},
   "outputs": [
    {
     "data": {
      "text/html": [
       "<div>\n",
       "<style scoped>\n",
       "    .dataframe tbody tr th:only-of-type {\n",
       "        vertical-align: middle;\n",
       "    }\n",
       "\n",
       "    .dataframe tbody tr th {\n",
       "        vertical-align: top;\n",
       "    }\n",
       "\n",
       "    .dataframe thead th {\n",
       "        text-align: right;\n",
       "    }\n",
       "</style>\n",
       "<table border=\"1\" class=\"dataframe\">\n",
       "  <thead>\n",
       "    <tr style=\"text-align: right;\">\n",
       "      <th></th>\n",
       "      <th>text</th>\n",
       "      <th>TARGET</th>\n",
       "      <th>dialogue_id</th>\n",
       "      <th>turn_id</th>\n",
       "      <th>type</th>\n",
       "      <th>source</th>\n",
       "    </tr>\n",
       "  </thead>\n",
       "  <tbody>\n",
       "    <tr>\n",
       "      <th>0</th>\n",
       "      <td>We’ve just imported 20k ticking time bombs fro...</td>\n",
       "      <td>MIGRANTS</td>\n",
       "      <td>0</td>\n",
       "      <td>0</td>\n",
       "      <td>HS</td>\n",
       "      <td>dialo_gold</td>\n",
       "    </tr>\n",
       "    <tr>\n",
       "      <th>1</th>\n",
       "      <td>Surely people who also risked their lives to h...</td>\n",
       "      <td>MIGRANTS</td>\n",
       "      <td>0</td>\n",
       "      <td>1</td>\n",
       "      <td>CN</td>\n",
       "      <td>dialo_gold</td>\n",
       "    </tr>\n",
       "    <tr>\n",
       "      <th>2</th>\n",
       "      <td>Our own must always come first. We have at lea...</td>\n",
       "      <td>MIGRANTS</td>\n",
       "      <td>0</td>\n",
       "      <td>2</td>\n",
       "      <td>HS</td>\n",
       "      <td>dialo_gold</td>\n",
       "    </tr>\n",
       "    <tr>\n",
       "      <th>3</th>\n",
       "      <td>We also have at least 1 million empty homes. T...</td>\n",
       "      <td>MIGRANTS</td>\n",
       "      <td>0</td>\n",
       "      <td>3</td>\n",
       "      <td>CN</td>\n",
       "      <td>dialo_gold</td>\n",
       "    </tr>\n",
       "    <tr>\n",
       "      <th>4</th>\n",
       "      <td>Our soldiers are left to rot on our streets wh...</td>\n",
       "      <td>MIGRANTS</td>\n",
       "      <td>0</td>\n",
       "      <td>4</td>\n",
       "      <td>HS</td>\n",
       "      <td>dialo_gold</td>\n",
       "    </tr>\n",
       "    <tr>\n",
       "      <th>...</th>\n",
       "      <td>...</td>\n",
       "      <td>...</td>\n",
       "      <td>...</td>\n",
       "      <td>...</td>\n",
       "      <td>...</td>\n",
       "      <td>...</td>\n",
       "    </tr>\n",
       "    <tr>\n",
       "      <th>16620</th>\n",
       "      <td>This is just a myth spread to divide us. Jews ...</td>\n",
       "      <td>JEWS</td>\n",
       "      <td>3048</td>\n",
       "      <td>3</td>\n",
       "      <td>CN</td>\n",
       "      <td>session_3</td>\n",
       "    </tr>\n",
       "    <tr>\n",
       "      <th>16621</th>\n",
       "      <td>Jews are not human, they are a disease, a canc...</td>\n",
       "      <td>JEWS</td>\n",
       "      <td>3048</td>\n",
       "      <td>4</td>\n",
       "      <td>HS</td>\n",
       "      <td>session_3</td>\n",
       "    </tr>\n",
       "    <tr>\n",
       "      <th>16622</th>\n",
       "      <td>This is a false ideology perpetuated by the an...</td>\n",
       "      <td>JEWS</td>\n",
       "      <td>3048</td>\n",
       "      <td>5</td>\n",
       "      <td>CN</td>\n",
       "      <td>session_3</td>\n",
       "    </tr>\n",
       "    <tr>\n",
       "      <th>16623</th>\n",
       "      <td>I’m just sick of hearing about how the Jews ar...</td>\n",
       "      <td>JEWS</td>\n",
       "      <td>3048</td>\n",
       "      <td>6</td>\n",
       "      <td>HS</td>\n",
       "      <td>session_3</td>\n",
       "    </tr>\n",
       "    <tr>\n",
       "      <th>16624</th>\n",
       "      <td>Jews are part of our society, they have always...</td>\n",
       "      <td>JEWS</td>\n",
       "      <td>3048</td>\n",
       "      <td>7</td>\n",
       "      <td>CN</td>\n",
       "      <td>session_3</td>\n",
       "    </tr>\n",
       "  </tbody>\n",
       "</table>\n",
       "<p>16625 rows × 6 columns</p>\n",
       "</div>"
      ],
      "text/plain": [
       "                                                    text    TARGET   \n",
       "0      We’ve just imported 20k ticking time bombs fro...  MIGRANTS  \\\n",
       "1      Surely people who also risked their lives to h...  MIGRANTS   \n",
       "2      Our own must always come first. We have at lea...  MIGRANTS   \n",
       "3      We also have at least 1 million empty homes. T...  MIGRANTS   \n",
       "4      Our soldiers are left to rot on our streets wh...  MIGRANTS   \n",
       "...                                                  ...       ...   \n",
       "16620  This is just a myth spread to divide us. Jews ...      JEWS   \n",
       "16621  Jews are not human, they are a disease, a canc...      JEWS   \n",
       "16622  This is a false ideology perpetuated by the an...      JEWS   \n",
       "16623  I’m just sick of hearing about how the Jews ar...      JEWS   \n",
       "16624  Jews are part of our society, they have always...      JEWS   \n",
       "\n",
       "       dialogue_id  turn_id type      source  \n",
       "0                0        0   HS  dialo_gold  \n",
       "1                0        1   CN  dialo_gold  \n",
       "2                0        2   HS  dialo_gold  \n",
       "3                0        3   CN  dialo_gold  \n",
       "4                0        4   HS  dialo_gold  \n",
       "...            ...      ...  ...         ...  \n",
       "16620         3048        3   CN   session_3  \n",
       "16621         3048        4   HS   session_3  \n",
       "16622         3048        5   CN   session_3  \n",
       "16623         3048        6   HS   session_3  \n",
       "16624         3048        7   CN   session_3  \n",
       "\n",
       "[16625 rows x 6 columns]"
      ]
     },
     "execution_count": 5,
     "metadata": {},
     "output_type": "execute_result"
    }
   ],
   "source": [
    "dialogconan = pd.read_csv('./CONAN/DIALOCONAN/DIALOCONAN.csv')\n",
    "dialogconan"
   ]
  },
  {
   "cell_type": "code",
   "execution_count": 15,
   "metadata": {},
   "outputs": [
    {
     "data": {
      "text/plain": [
       "source\n",
       "session_1     7004\n",
       "session_2     5282\n",
       "session_3     3275\n",
       "dialo_gold    1064\n",
       "Name: count, dtype: int64"
      ]
     },
     "execution_count": 15,
     "metadata": {},
     "output_type": "execute_result"
    }
   ],
   "source": [
    "dialogconan['source'].value_counts()"
   ]
  },
  {
   "cell_type": "code",
   "execution_count": 18,
   "metadata": {},
   "outputs": [
    {
     "data": {
      "text/plain": [
       "[\"The jewish elite are using their status and power to control us! It's all a plot for Jews to take over the west.\",\n",
       " 'What makes you think that?',\n",
       " \"There's lots of literature about it, look up the great replacement or the kalergi plan. All these theories point to Jews as the culprits.\",\n",
       " \"Those are baseless conspiracies. Yes, there's lots of literature on them but it's not reliable, it's just people theorising.\",\n",
       " 'But they make sense, there are many powerful Jews in high status positions in government, media, industry...',\n",
       " \"Yes, but there are also many non-Jewish people in high powered positions. Yes, people do abuse positions of power, however this can happen whatever their religion or beliefs are, and definitely isn't because they're Jewish.\"]"
      ]
     },
     "execution_count": 18,
     "metadata": {},
     "output_type": "execute_result"
    }
   ],
   "source": [
    "dialogconan[dialogconan['dialogue_id'] == 100]['text'].to_list()"
   ]
  },
  {
   "attachments": {},
   "cell_type": "markdown",
   "metadata": {},
   "source": [
    "## Fast classifier\n",
    "Fine-tune a classifier to distinguish between HS and CN \n",
    "\n",
    "(TODO: check a way to give context between question and answer)"
   ]
  }
 ],
 "metadata": {
  "kernelspec": {
   "display_name": "torch_new",
   "language": "python",
   "name": "python3"
  },
  "language_info": {
   "codemirror_mode": {
    "name": "ipython",
    "version": 3
   },
   "file_extension": ".py",
   "mimetype": "text/x-python",
   "name": "python",
   "nbconvert_exporter": "python",
   "pygments_lexer": "ipython3",
   "version": "3.9.16"
  },
  "orig_nbformat": 4
 },
 "nbformat": 4,
 "nbformat_minor": 2
}
