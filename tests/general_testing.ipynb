{
 "cells": [
  {
   "attachments": {},
   "cell_type": "markdown",
   "metadata": {},
   "source": [
    "# Runtime test notebook"
   ]
  },
  {
   "cell_type": "code",
   "execution_count": 1,
   "metadata": {},
   "outputs": [],
   "source": [
    "import rewardlm"
   ]
  },
  {
   "attachments": {},
   "cell_type": "markdown",
   "metadata": {},
   "source": [
    "## Data Utils"
   ]
  },
  {
   "cell_type": "code",
   "execution_count": 2,
   "metadata": {},
   "outputs": [
    {
     "name": "stdout",
     "output_type": "stream",
     "text": [
      "Using MPS (Apple Silicon GPU)\n"
     ]
    },
    {
     "name": "stderr",
     "output_type": "stream",
     "text": [
      "Found cached dataset json (/Users/daniel/.cache/huggingface/datasets/allenai___json/allenai--real-toxicity-prompts-eb8779dd2693db47/0.0.0/e347ab1c932092252e717ff3f949105a4dd28b27e842dd53157d2f72e276c2e4)\n"
     ]
    },
    {
     "ename": "TypeError",
     "evalue": "__init__() got an unexpected keyword argument 'text_col'",
     "output_type": "error",
     "traceback": [
      "\u001b[0;31m---------------------------------------------------------------------------\u001b[0m",
      "\u001b[0;31mTypeError\u001b[0m                                 Traceback (most recent call last)",
      "Cell \u001b[0;32mIn[2], line 6\u001b[0m\n\u001b[1;32m      2\u001b[0m \u001b[39mfrom\u001b[39;00m \u001b[39mrewardlm\u001b[39;00m\u001b[39m.\u001b[39;00m\u001b[39mcore\u001b[39;00m\u001b[39m.\u001b[39;00m\u001b[39mGenerativeModel\u001b[39;00m \u001b[39mimport\u001b[39;00m GenerativeModel\n\u001b[1;32m      4\u001b[0m generative_manager \u001b[39m=\u001b[39m GenerativeModel(model_id \u001b[39m=\u001b[39m \u001b[39m'\u001b[39m\u001b[39mEleutherAI/pythia-70m\u001b[39m\u001b[39m'\u001b[39m)\n\u001b[0;32m----> 6\u001b[0m gen_benchmark_data(generative_manager\u001b[39m.\u001b[39;49mtokenizer)\n",
      "File \u001b[0;32m~/Documents/Work/RewardLM/rewardlm/data/data_utils.py:50\u001b[0m, in \u001b[0;36mgen_benchmark_data\u001b[0;34m(tokenizer, max_len, custom_prompt, batch_size)\u001b[0m\n\u001b[1;32m     35\u001b[0m \u001b[39m\u001b[39m\u001b[39m\"\"\"Generate PyTorch DataLoader based on the given parameter using RealToxicityPrompt as benchmark dataset. \u001b[39;00m\n\u001b[1;32m     36\u001b[0m \u001b[39mPrompts can also be customized using custom_prompt parameter\u001b[39;00m\n\u001b[1;32m     37\u001b[0m \n\u001b[0;32m   (...)\u001b[0m\n\u001b[1;32m     45\u001b[0m \u001b[39m    torch.utils.data.DataLoader: PyTorch DataLoader containing all the prompts\u001b[39;00m\n\u001b[1;32m     46\u001b[0m \u001b[39m\"\"\"\u001b[39;00m\n\u001b[1;32m     47\u001b[0m prompts \u001b[39m=\u001b[39m __get_real_toxicity_prompts()\n\u001b[0;32m---> 50\u001b[0m model_set \u001b[39m=\u001b[39m PromptsDataset(\n\u001b[1;32m     51\u001b[0m     text \u001b[39m=\u001b[39;49m prompts[\u001b[39m'\u001b[39;49m\u001b[39mtext\u001b[39;49m\u001b[39m'\u001b[39;49m]\u001b[39m.\u001b[39;49mto_list(),\n\u001b[1;32m     52\u001b[0m     tokenizer \u001b[39m=\u001b[39;49m tokenizer,\n\u001b[1;32m     53\u001b[0m     text_col \u001b[39m=\u001b[39;49m \u001b[39m'\u001b[39;49m\u001b[39mtext\u001b[39;49m\u001b[39m'\u001b[39;49m, \n\u001b[1;32m     54\u001b[0m     max_len \u001b[39m=\u001b[39;49m max_len,\n\u001b[1;32m     55\u001b[0m     custom_prompt \u001b[39m=\u001b[39;49m custom_prompt,\n\u001b[1;32m     56\u001b[0m )\n\u001b[1;32m     57\u001b[0m model_loader \u001b[39m=\u001b[39m DataLoader(model_set, batch_size \u001b[39m=\u001b[39m batch_size)\n\u001b[1;32m     59\u001b[0m \u001b[39mreturn\u001b[39;00m model_loader\n",
      "\u001b[0;31mTypeError\u001b[0m: __init__() got an unexpected keyword argument 'text_col'"
     ]
    }
   ],
   "source": [
    "from rewardlm.data.data_utils import gen_benchmark_data\n",
    "from rewardlm.core.GenerativeModel import GenerativeModel\n",
    "\n",
    "generative_manager = GenerativeModel(model_id = 'EleutherAI/pythia-70m')\n",
    "\n",
    "gen_benchmark_data(generative_manager.tokenizer)"
   ]
  },
  {
   "attachments": {},
   "cell_type": "markdown",
   "metadata": {},
   "source": [
    "## Reward model"
   ]
  },
  {
   "cell_type": "code",
   "execution_count": 3,
   "metadata": {},
   "outputs": [],
   "source": [
    "from rewardlm.core.RewardModel import RewardModel\n",
    "reward_manager = RewardModel(model_id = 'facebook/roberta-hate-speech-dynabench-r4-target', device='mps')"
   ]
  },
  {
   "attachments": {},
   "cell_type": "markdown",
   "metadata": {},
   "source": [
    "### Reward tokenizer"
   ]
  },
  {
   "cell_type": "code",
   "execution_count": 6,
   "metadata": {},
   "outputs": [
    {
     "data": {
      "text/plain": [
       "{'input_ids': tensor([[    0, 31414,     6,   232,   328,     2]]), 'attention_mask': tensor([[1, 1, 1, 1, 1, 1]])}"
      ]
     },
     "execution_count": 6,
     "metadata": {},
     "output_type": "execute_result"
    }
   ],
   "source": [
    "reward_manager.tokenize_text('Hello, world!')"
   ]
  },
  {
   "cell_type": "code",
   "execution_count": 10,
   "metadata": {},
   "outputs": [
    {
     "data": {
      "text/plain": [
       "{'input_ids': tensor([[    0, 10993,  3645,     2,     1,     1,     1,     1,     1,     1,\n",
       "             1,     1],\n",
       "        [    0, 10815,  1181,  3645,     2,     1,     1,     1,     1,     1,\n",
       "             1,     1]]), 'attention_mask': tensor([[1, 1, 1, 1, 0, 0, 0, 0, 0, 0, 0, 0],\n",
       "        [1, 1, 1, 1, 1, 0, 0, 0, 0, 0, 0, 0]])}"
      ]
     },
     "execution_count": 10,
     "metadata": {},
     "output_type": "execute_result"
    }
   ],
   "source": [
    "# Trying w/ batch text\n",
    "reward_manager.tokenize_text(\n",
    "    ['First sentence', 'second longer sentence'],\n",
    "    padding = 'max_length', \n",
    "    max_length = 12, \n",
    "    truncation = True,\n",
    ")"
   ]
  },
  {
   "attachments": {},
   "cell_type": "markdown",
   "metadata": {},
   "source": [
    "### Model itself"
   ]
  },
  {
   "cell_type": "code",
   "execution_count": 7,
   "metadata": {},
   "outputs": [
    {
     "data": {
      "text/plain": [
       "(array([0.00119799], dtype=float32), array([0.00028152], dtype=float32))"
      ]
     },
     "execution_count": 7,
     "metadata": {},
     "output_type": "execute_result"
    }
   ],
   "source": [
    "reward_manager.get_score_pair(\n",
    "    prompt = reward_manager.tokenize_text('This is a prompt'),\n",
    "    response = reward_manager.tokenize_text('This is the continuation of the prompt')\n",
    ")"
   ]
  },
  {
   "cell_type": "code",
   "execution_count": 13,
   "metadata": {},
   "outputs": [
    {
     "ename": "TypeError",
     "evalue": "__init__() missing 1 required positional argument: 'tokenizer'",
     "output_type": "error",
     "traceback": [
      "\u001b[0;31m---------------------------------------------------------------------------\u001b[0m",
      "\u001b[0;31mTypeError\u001b[0m                                 Traceback (most recent call last)",
      "Cell \u001b[0;32mIn[13], line 13\u001b[0m\n\u001b[1;32m      5\u001b[0m \u001b[39m# trying w/ batch text\u001b[39;00m\n\u001b[1;32m      6\u001b[0m batch_input \u001b[39m=\u001b[39m reward_manager\u001b[39m.\u001b[39mtokenize_text(\n\u001b[1;32m      7\u001b[0m     [\u001b[39m'\u001b[39m\u001b[39mFirst sentence\u001b[39m\u001b[39m'\u001b[39m, \u001b[39m'\u001b[39m\u001b[39msecond longer sentence\u001b[39m\u001b[39m'\u001b[39m, \u001b[39m'\u001b[39m\u001b[39mthird one\u001b[39m\u001b[39m'\u001b[39m],\n\u001b[1;32m      8\u001b[0m     padding \u001b[39m=\u001b[39m \u001b[39m'\u001b[39m\u001b[39mmax_length\u001b[39m\u001b[39m'\u001b[39m, \n\u001b[1;32m      9\u001b[0m     max_length \u001b[39m=\u001b[39m \u001b[39m12\u001b[39m, \n\u001b[1;32m     10\u001b[0m     truncation \u001b[39m=\u001b[39m \u001b[39mTrue\u001b[39;00m,\n\u001b[1;32m     11\u001b[0m )\n\u001b[0;32m---> 13\u001b[0m dataset \u001b[39m=\u001b[39m ToxicityGeneratedSet(pd\u001b[39m.\u001b[39;49mDataFrame)\n\u001b[1;32m     15\u001b[0m reward_manager\u001b[39m.\u001b[39mget_batch_score_pair(DataLoader(batch_input, batch_size\u001b[39m=\u001b[39m\u001b[39m1\u001b[39m))\n",
      "\u001b[0;31mTypeError\u001b[0m: __init__() missing 1 required positional argument: 'tokenizer'"
     ]
    }
   ],
   "source": [
    "from torch.utils.data import DataLoader, Dataset\n",
    "from rewardlm.data.CustomDatasets import ToxicityGeneratedSet\n",
    "import pandas as pd\n",
    "\n",
    "# trying w/ batch text\n",
    "batch_input = reward_manager.tokenize_text(\n",
    "    ['First sentence', 'second longer sentence', 'third one'],\n",
    "    padding = 'max_length', \n",
    "    max_length = 12, \n",
    "    truncation = True,\n",
    ")\n",
    "\n",
    "dataset = ToxicityGeneratedSet(pd.DataFrame)\n",
    "        \n",
    "reward_manager.get_batch_score_pair(\n",
    "    DataLoader(batch_input, batch_size=1)\n",
    ")"
   ]
  }
 ],
 "metadata": {
  "kernelspec": {
   "display_name": "torch_new",
   "language": "python",
   "name": "python3"
  },
  "language_info": {
   "codemirror_mode": {
    "name": "ipython",
    "version": 3
   },
   "file_extension": ".py",
   "mimetype": "text/x-python",
   "name": "python",
   "nbconvert_exporter": "python",
   "pygments_lexer": "ipython3",
   "version": "3.9.16"
  },
  "orig_nbformat": 4
 },
 "nbformat": 4,
 "nbformat_minor": 2
}
