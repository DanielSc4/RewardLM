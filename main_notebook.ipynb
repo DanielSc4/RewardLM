{
 "cells": [
  {
   "cell_type": "code",
   "execution_count": 3,
   "metadata": {},
   "outputs": [
    {
     "name": "stdout",
     "output_type": "stream",
     "text": [
      "Token will not been saved to git credential helper. Pass `add_to_git_credential=True` if you want to set the git credential as well.\n",
      "Token is valid.\n",
      "Your token has been saved to /Users/daniel/.cache/huggingface/token\n",
      "Login successful\n"
     ]
    }
   ],
   "source": [
    "# ## dependencies for colab\n",
    "# !git clone https://__TOKEN_GIT__:@github.com/DanielSc4/RL-on-LM.git\n",
    "# %cd RL-on-LM/\n",
    "# !pip install -r requirements.txt\n",
    "# from huggingface_hub import login\n",
    "# login(token = '')  # https://huggingface.co/settings/tokens"
   ]
  },
  {
   "attachments": {},
   "cell_type": "markdown",
   "metadata": {},
   "source": [
    "## 0. 🗽 Imports"
   ]
  },
  {
   "cell_type": "code",
   "execution_count": 31,
   "metadata": {},
   "outputs": [],
   "source": [
    "import torch\n",
    "from rewardlm.data.data_utils import download_DIALOCONAN\n",
    "from rewardlm.ToxicityMeter import ToxicityMeter\n",
    "from transformers import GenerationConfig\n",
    "from rewardlm.utils.general_utils import device_selector\n",
    "device = device_selector()\n",
    "if device == 'cuda':\n",
    "    import gc\n",
    "\n",
    "# from rewardlm.data.data_utils import gen_benchmark_data"
   ]
  },
  {
   "attachments": {},
   "cell_type": "markdown",
   "metadata": {},
   "source": [
    "#### Choose model"
   ]
  },
  {
   "cell_type": "code",
   "execution_count": 38,
   "metadata": {},
   "outputs": [],
   "source": [
    "# model_id = 'EleutherAI/gpt-neo-125m'\n",
    "model_id = 'EleutherAI/pythia-70m'      # prototype model\n",
    "\n",
    "# batchsize for single A100 40GB GPU\n",
    "model_ids = [\n",
    "    ('MBZUAI/LaMini-GPT-124M', 64),\n",
    "    ('MBZUAI/LaMini-GPT-774M', 32),\n",
    "    ('MBZUAI/LaMini-GPT-1.5B', 32),\n",
    "    ('togethercomputer/RedPajama-INCITE-Instruct-3B-v1', 16),\n",
    "    ('togethercomputer/RedPajama-INCITE-Chat-3B-v1', 16),\n",
    "    ('bigscience/bloomz-1b7', 32),   # 1.7 billion\n",
    "    ('bigscience/bloomz-3b',  16),     # 3 billion\n",
    "    ('bigscience/bloomz-7b1', 8),    # 7.1 billion\n",
    "]\n",
    "\n",
    "reward_model_id = 'facebook/roberta-hate-speech-dynabench-r4-target'"
   ]
  },
  {
   "attachments": {},
   "cell_type": "markdown",
   "metadata": {},
   "source": [
    "## Dataset Selection"
   ]
  },
  {
   "cell_type": "code",
   "execution_count": 9,
   "metadata": {},
   "outputs": [],
   "source": [
    "###\n",
    "# Temporary management of the dataset:\n",
    "# Decided to focus only on the firts 2 turns of the dialog.\n",
    "# The prompt will be the toxic text reported in the dataset and the model \n",
    "# should produce a non-toxic response; \n",
    "# eventually, the model, will be instructed trough RL\n",
    "# in debunking the initial statement\n",
    "\n",
    "# selecting only the first text column"
   ]
  },
  {
   "cell_type": "code",
   "execution_count": 39,
   "metadata": {},
   "outputs": [],
   "source": [
    "dataset = download_DIALOCONAN()\n",
    "query = dataset['turn_id'] == 0"
   ]
  },
  {
   "attachments": {},
   "cell_type": "markdown",
   "metadata": {},
   "source": [
    "## Generate\n"
   ]
  },
  {
   "cell_type": "code",
   "execution_count": 41,
   "metadata": {},
   "outputs": [
    {
     "name": "stderr",
     "output_type": "stream",
     "text": [
      "100%|██████████| 4/4 [00:08<00:00,  2.24s/it]\n",
      "100%|██████████| 1/1 [00:01<00:00,  1.82s/it]\n",
      "100%|██████████| 4/4 [00:08<00:00,  2.14s/it]\n",
      "100%|██████████| 1/1 [00:01<00:00,  1.90s/it]\n"
     ]
    }
   ],
   "source": [
    "for model_id, batchsize in model_ids:\n",
    "    print(f'Testing {model_id}')\n",
    "    \n",
    "    # samples: 25, top-p: 0.9, temperature = 1, max_len = 20\n",
    "    generation_config = GenerationConfig(\n",
    "        max_new_tokens = 25,\n",
    "        num_beams = 5,\n",
    "        early_stopping = True,\n",
    "        pad_token_id = 0,       # crashes while using batchsize > 1 only on mps device if not set\n",
    "        temperature = 0.8,\n",
    "        top_p = .8,\n",
    "        # diversity_penalty = .1, # should use num_beam_groups > 1\n",
    "    )\n",
    "\n",
    "\n",
    "    load_dtype = 'bf16' # can be ['8-bit', 'bf16',]\n",
    "    toxicity_meter = ToxicityMeter(\n",
    "        model_id = model_id,\n",
    "        load_dtype = load_dtype, # can be ['8-bit', 'bf16',]\n",
    "        toxicity_model_id = reward_model_id,\n",
    "        device = device_selector(),\n",
    "        generation_config = generation_config,\n",
    "    )\n",
    "\n",
    "    custom_prompt = ('Statement: \"{prompt}\".\\nResponse: ')\n",
    "    # custom prompts required by papers\n",
    "    if model_id == 'togethercomputer/RedPajama-INCITE-Chat-3B-v1':\n",
    "        custom_prompt = ('<human>: \"{prompt}\"\\n<bot>: ')\n",
    "    \n",
    "\n",
    "    toxicity_df = toxicity_meter.measure_toxicity(\n",
    "        text_prompt = dataset[query]['text'].to_list(),\n",
    "        custom_prompt = custom_prompt, \n",
    "        generation_config = generation_config,\n",
    "        batch_size = batchsize,\n",
    "    )\n",
    "\n",
    "    # save csv in tmp folder\n",
    "    toxicity_df.to_csv(f'./result analysis/tmp/measured_tox_instruct_{model_id.split(\"/\")[-1]}_{load_dtype}.csv')\n",
    "    \n",
    "    # free memory\n",
    "    del toxicity_meter\n",
    "    if device == 'cuda':\n",
    "        gc.collect()\n",
    "    torch.cuda.empty_cache()"
   ]
  },
  {
   "cell_type": "code",
   "execution_count": 4,
   "metadata": {},
   "outputs": [],
   "source": [
    "toxicity_df.to_csv(f'../measured_toxicity_{model_id.split(\"/\")[-1]}_{load_dtype}_(2)_normal_prompt.csv')"
   ]
  },
  {
   "attachments": {},
   "cell_type": "markdown",
   "metadata": {},
   "source": [
    "## Fine Tune model w/ Dialoconan"
   ]
  },
  {
   "cell_type": "code",
   "execution_count": 1,
   "metadata": {},
   "outputs": [
    {
     "data": {
      "text/html": [
       "<div>\n",
       "<style scoped>\n",
       "    .dataframe tbody tr th:only-of-type {\n",
       "        vertical-align: middle;\n",
       "    }\n",
       "\n",
       "    .dataframe tbody tr th {\n",
       "        vertical-align: top;\n",
       "    }\n",
       "\n",
       "    .dataframe thead th {\n",
       "        text-align: right;\n",
       "    }\n",
       "</style>\n",
       "<table border=\"1\" class=\"dataframe\">\n",
       "  <thead>\n",
       "    <tr style=\"text-align: right;\">\n",
       "      <th></th>\n",
       "      <th>text</th>\n",
       "      <th>TARGET</th>\n",
       "      <th>dialogue_id</th>\n",
       "      <th>turn_id</th>\n",
       "      <th>type</th>\n",
       "      <th>source</th>\n",
       "    </tr>\n",
       "  </thead>\n",
       "  <tbody>\n",
       "    <tr>\n",
       "      <th>0</th>\n",
       "      <td>We’ve just imported 20k ticking time bombs fro...</td>\n",
       "      <td>MIGRANTS</td>\n",
       "      <td>0</td>\n",
       "      <td>0</td>\n",
       "      <td>HS</td>\n",
       "      <td>dialo_gold</td>\n",
       "    </tr>\n",
       "    <tr>\n",
       "      <th>1</th>\n",
       "      <td>Surely people who also risked their lives to h...</td>\n",
       "      <td>MIGRANTS</td>\n",
       "      <td>0</td>\n",
       "      <td>1</td>\n",
       "      <td>CN</td>\n",
       "      <td>dialo_gold</td>\n",
       "    </tr>\n",
       "    <tr>\n",
       "      <th>2</th>\n",
       "      <td>Our own must always come first. We have at lea...</td>\n",
       "      <td>MIGRANTS</td>\n",
       "      <td>0</td>\n",
       "      <td>2</td>\n",
       "      <td>HS</td>\n",
       "      <td>dialo_gold</td>\n",
       "    </tr>\n",
       "    <tr>\n",
       "      <th>3</th>\n",
       "      <td>We also have at least 1 million empty homes. T...</td>\n",
       "      <td>MIGRANTS</td>\n",
       "      <td>0</td>\n",
       "      <td>3</td>\n",
       "      <td>CN</td>\n",
       "      <td>dialo_gold</td>\n",
       "    </tr>\n",
       "    <tr>\n",
       "      <th>4</th>\n",
       "      <td>Our soldiers are left to rot on our streets wh...</td>\n",
       "      <td>MIGRANTS</td>\n",
       "      <td>0</td>\n",
       "      <td>4</td>\n",
       "      <td>HS</td>\n",
       "      <td>dialo_gold</td>\n",
       "    </tr>\n",
       "    <tr>\n",
       "      <th>...</th>\n",
       "      <td>...</td>\n",
       "      <td>...</td>\n",
       "      <td>...</td>\n",
       "      <td>...</td>\n",
       "      <td>...</td>\n",
       "      <td>...</td>\n",
       "    </tr>\n",
       "    <tr>\n",
       "      <th>16620</th>\n",
       "      <td>This is just a myth spread to divide us. Jews ...</td>\n",
       "      <td>JEWS</td>\n",
       "      <td>3048</td>\n",
       "      <td>3</td>\n",
       "      <td>CN</td>\n",
       "      <td>session_3</td>\n",
       "    </tr>\n",
       "    <tr>\n",
       "      <th>16621</th>\n",
       "      <td>Jews are not human, they are a disease, a canc...</td>\n",
       "      <td>JEWS</td>\n",
       "      <td>3048</td>\n",
       "      <td>4</td>\n",
       "      <td>HS</td>\n",
       "      <td>session_3</td>\n",
       "    </tr>\n",
       "    <tr>\n",
       "      <th>16622</th>\n",
       "      <td>This is a false ideology perpetuated by the an...</td>\n",
       "      <td>JEWS</td>\n",
       "      <td>3048</td>\n",
       "      <td>5</td>\n",
       "      <td>CN</td>\n",
       "      <td>session_3</td>\n",
       "    </tr>\n",
       "    <tr>\n",
       "      <th>16623</th>\n",
       "      <td>I’m just sick of hearing about how the Jews ar...</td>\n",
       "      <td>JEWS</td>\n",
       "      <td>3048</td>\n",
       "      <td>6</td>\n",
       "      <td>HS</td>\n",
       "      <td>session_3</td>\n",
       "    </tr>\n",
       "    <tr>\n",
       "      <th>16624</th>\n",
       "      <td>Jews are part of our society, they have always...</td>\n",
       "      <td>JEWS</td>\n",
       "      <td>3048</td>\n",
       "      <td>7</td>\n",
       "      <td>CN</td>\n",
       "      <td>session_3</td>\n",
       "    </tr>\n",
       "  </tbody>\n",
       "</table>\n",
       "<p>16625 rows × 6 columns</p>\n",
       "</div>"
      ],
      "text/plain": [
       "                                                    text  ...      source\n",
       "0      We’ve just imported 20k ticking time bombs fro...  ...  dialo_gold\n",
       "1      Surely people who also risked their lives to h...  ...  dialo_gold\n",
       "2      Our own must always come first. We have at lea...  ...  dialo_gold\n",
       "3      We also have at least 1 million empty homes. T...  ...  dialo_gold\n",
       "4      Our soldiers are left to rot on our streets wh...  ...  dialo_gold\n",
       "...                                                  ...  ...         ...\n",
       "16620  This is just a myth spread to divide us. Jews ...  ...   session_3\n",
       "16621  Jews are not human, they are a disease, a canc...  ...   session_3\n",
       "16622  This is a false ideology perpetuated by the an...  ...   session_3\n",
       "16623  I’m just sick of hearing about how the Jews ar...  ...   session_3\n",
       "16624  Jews are part of our society, they have always...  ...   session_3\n",
       "\n",
       "[16625 rows x 6 columns]"
      ]
     },
     "execution_count": 1,
     "metadata": {},
     "output_type": "execute_result"
    }
   ],
   "source": [
    "from rewardlm.data.data_utils import download_DIALOCONAN\n",
    "import numpy as np\n",
    "\n",
    "# data prep TODO: get the new data from EDA_DialogConan notebook\n",
    "dataset = download_DIALOCONAN()\n",
    "dataset"
   ]
  }
 ],
 "metadata": {
  "kernelspec": {
   "display_name": "torch_new",
   "language": "python",
   "name": "python3"
  },
  "language_info": {
   "codemirror_mode": {
    "name": "ipython",
    "version": 3
   },
   "file_extension": ".py",
   "mimetype": "text/x-python",
   "name": "python",
   "nbconvert_exporter": "python",
   "pygments_lexer": "ipython3",
   "version": "3.9.16"
  },
  "orig_nbformat": 4
 },
 "nbformat": 4,
 "nbformat_minor": 2
}
