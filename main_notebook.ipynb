{
 "cells": [
  {
   "cell_type": "code",
   "execution_count": 3,
   "metadata": {},
   "outputs": [
    {
     "name": "stdout",
     "output_type": "stream",
     "text": [
      "Token will not been saved to git credential helper. Pass `add_to_git_credential=True` if you want to set the git credential as well.\n",
      "Token is valid.\n",
      "Your token has been saved to /Users/daniel/.cache/huggingface/token\n",
      "Login successful\n"
     ]
    }
   ],
   "source": [
    "# ## dependencies for colab\n",
    "# !git clone https://__TOKEN_GIT__:@github.com/DanielSc4/RewardLM.git\n",
    "# %cd RewardLM/\n",
    "# !pip install -r requirements.txt\n",
    "# from huggingface_hub import login\n",
    "# login(token = '')  # https://huggingface.co/settings/tokens"
   ]
  },
  {
   "cell_type": "code",
   "execution_count": 2,
   "metadata": {},
   "outputs": [],
   "source": [
    "# disalble welcome message\n",
    "import os\n",
    "os.environ['BITSANDBYTES_NOWELCOME'] = '1'"
   ]
  },
  {
   "attachments": {},
   "cell_type": "markdown",
   "metadata": {},
   "source": [
    "# 🥞 Reinforcement Learning with Automatic Feedback (RLAF)"
   ]
  },
  {
   "cell_type": "code",
   "execution_count": 8,
   "metadata": {},
   "outputs": [
    {
     "name": "stdout",
     "output_type": "stream",
     "text": [
      "trainable params: 196608 || all params 70623232 || trainable(%): 0.28\n",
      "None\n"
     ]
    },
    {
     "name": "stderr",
     "output_type": "stream",
     "text": [
      "/Users/daniel/Documents/Work/RewardLM/.venv/lib/python3.10/site-packages/trl/trainer/ppo_trainer.py:221: UserWarning: No dataset is provided. Make sure to set config.batch_size to the correct value before training.\n",
      "  warnings.warn(\n",
      "0it [00:00, ?it/s]"
     ]
    },
    {
     "name": "stdout",
     "output_type": "stream",
     "text": [
      "batch n: 1:\n"
     ]
    },
    {
     "name": "stderr",
     "output_type": "stream",
     "text": [
      "100%|██████████| 1/1 [00:04<00:00,  4.38s/it]\n",
      "You're using a GPTNeoXTokenizerFast tokenizer. Please note that with a fast tokenizer, using the `__call__` method is faster than using a method to encode the text followed by a call to the `pad` method to get a padded encoding.\n",
      "0it [00:32, ?it/s]\n"
     ]
    },
    {
     "ename": "ValueError",
     "evalue": "Responses are too short. Make sure they are at least 4 tokens long.",
     "output_type": "error",
     "traceback": [
      "\u001b[0;31m---------------------------------------------------------------------------\u001b[0m",
      "\u001b[0;31mValueError\u001b[0m                                Traceback (most recent call last)",
      "Cell \u001b[0;32mIn[8], line 21\u001b[0m\n\u001b[1;32m     18\u001b[0m data \u001b[39m=\u001b[39m get_DIALOCONAN_prepro(delete_last_assistant_response \u001b[39m=\u001b[39m \u001b[39mTrue\u001b[39;00m)\n\u001b[1;32m     19\u001b[0m dataset \u001b[39m=\u001b[39m rlmanager\u001b[39m.\u001b[39mgenerate_dataset(text \u001b[39m=\u001b[39m data)\n\u001b[0;32m---> 21\u001b[0m history \u001b[39m=\u001b[39m rlmanager\u001b[39m.\u001b[39;49mtrain_PPO(dataset \u001b[39m=\u001b[39;49m dataset)\n",
      "File \u001b[0;32m~/Documents/Work/RewardLM/rewardlm/core/RL/RLModel.py:173\u001b[0m, in \u001b[0;36mRLModel.train_PPO\u001b[0;34m(self, dataset, model_save_path)\u001b[0m\n\u001b[1;32m    169\u001b[0m \u001b[39mself\u001b[39m\u001b[39m.\u001b[39mgenerator_manager\u001b[39m.\u001b[39mmodel\u001b[39m.\u001b[39mgradient_checkpointing_enable()\n\u001b[1;32m    170\u001b[0m \u001b[39mself\u001b[39m\u001b[39m.\u001b[39mgenerator_manager\u001b[39m.\u001b[39mmodel\u001b[39m.\u001b[39mpretrained_model\u001b[39m.\u001b[39mconfig\u001b[39m.\u001b[39muse_cache \u001b[39m=\u001b[39m \u001b[39mFalse\u001b[39;00m\n\u001b[1;32m    172\u001b[0m stats \u001b[39m=\u001b[39m ppo_trainer\u001b[39m.\u001b[39mstep(\n\u001b[0;32m--> 173\u001b[0m     queries \u001b[39m=\u001b[39m \u001b[39mlist\u001b[39m(batch[\u001b[39m'\u001b[39m\u001b[39minput_ids\u001b[39m\u001b[39m'\u001b[39m]),     \u001b[39m# get list of tensor, shape [sample, max_len]\u001b[39;00m\n\u001b[1;32m    174\u001b[0m     responses \u001b[39m=\u001b[39m responses, \n\u001b[1;32m    175\u001b[0m     scores \u001b[39m=\u001b[39m [torch\u001b[39m.\u001b[39mtensor(s) \u001b[39mfor\u001b[39;00m s \u001b[39min\u001b[39;00m result_tox[\u001b[39m'\u001b[39m\u001b[39mresponse_score\u001b[39m\u001b[39m'\u001b[39m]],\n\u001b[1;32m    176\u001b[0m )\n\u001b[1;32m    177\u001b[0m ppo_trainer\u001b[39m.\u001b[39mlog_stats(stats, batch, rewards \u001b[39m=\u001b[39m result_tox[\u001b[39m'\u001b[39m\u001b[39mresponse_score\u001b[39m\u001b[39m'\u001b[39m])\n\u001b[1;32m    178\u001b[0m tot_stats\u001b[39m.\u001b[39mappend(stats)\n",
      "File \u001b[0;32m/opt/homebrew/Cellar/python@3.10/3.10.11/Frameworks/Python.framework/Versions/3.10/lib/python3.10/contextlib.py:79\u001b[0m, in \u001b[0;36mContextDecorator.__call__.<locals>.inner\u001b[0;34m(*args, **kwds)\u001b[0m\n\u001b[1;32m     76\u001b[0m \u001b[39m@wraps\u001b[39m(func)\n\u001b[1;32m     77\u001b[0m \u001b[39mdef\u001b[39;00m \u001b[39minner\u001b[39m(\u001b[39m*\u001b[39margs, \u001b[39m*\u001b[39m\u001b[39m*\u001b[39mkwds):\n\u001b[1;32m     78\u001b[0m     \u001b[39mwith\u001b[39;00m \u001b[39mself\u001b[39m\u001b[39m.\u001b[39m_recreate_cm():\n\u001b[0;32m---> 79\u001b[0m         \u001b[39mreturn\u001b[39;00m func(\u001b[39m*\u001b[39;49margs, \u001b[39m*\u001b[39;49m\u001b[39m*\u001b[39;49mkwds)\n",
      "File \u001b[0;32m~/Documents/Work/RewardLM/.venv/lib/python3.10/site-packages/trl/trainer/ppo_trainer.py:481\u001b[0m, in \u001b[0;36mPPOTrainer.step\u001b[0;34m(self, queries, responses, scores)\u001b[0m\n\u001b[1;32m    478\u001b[0m model_inputs_names \u001b[39m=\u001b[39m \u001b[39mlist\u001b[39m(model_inputs\u001b[39m.\u001b[39mkeys())\n\u001b[1;32m    480\u001b[0m \u001b[39mwith\u001b[39;00m torch\u001b[39m.\u001b[39mno_grad():\n\u001b[0;32m--> 481\u001b[0m     all_logprobs, _, values, masks \u001b[39m=\u001b[39m \u001b[39mself\u001b[39;49m\u001b[39m.\u001b[39;49mbatched_forward_pass(\u001b[39mself\u001b[39;49m\u001b[39m.\u001b[39;49mmodel, queries, responses, model_inputs)\n\u001b[1;32m    483\u001b[0m     \u001b[39m# for when the model is a peft model\u001b[39;00m\n\u001b[1;32m    484\u001b[0m     \u001b[39mif\u001b[39;00m \u001b[39mself\u001b[39m\u001b[39m.\u001b[39mis_peft_model \u001b[39mand\u001b[39;00m \u001b[39mhasattr\u001b[39m(\n\u001b[1;32m    485\u001b[0m         \u001b[39mself\u001b[39m\u001b[39m.\u001b[39maccelerator\u001b[39m.\u001b[39munwrap_model(\u001b[39mself\u001b[39m\u001b[39m.\u001b[39mmodel)\u001b[39m.\u001b[39mpretrained_model, \u001b[39m\"\u001b[39m\u001b[39mdisable_adapter\u001b[39m\u001b[39m\"\u001b[39m\n\u001b[1;32m    486\u001b[0m     ):\n",
      "File \u001b[0;32m/opt/homebrew/Cellar/python@3.10/3.10.11/Frameworks/Python.framework/Versions/3.10/lib/python3.10/contextlib.py:79\u001b[0m, in \u001b[0;36mContextDecorator.__call__.<locals>.inner\u001b[0;34m(*args, **kwds)\u001b[0m\n\u001b[1;32m     76\u001b[0m \u001b[39m@wraps\u001b[39m(func)\n\u001b[1;32m     77\u001b[0m \u001b[39mdef\u001b[39;00m \u001b[39minner\u001b[39m(\u001b[39m*\u001b[39margs, \u001b[39m*\u001b[39m\u001b[39m*\u001b[39mkwds):\n\u001b[1;32m     78\u001b[0m     \u001b[39mwith\u001b[39;00m \u001b[39mself\u001b[39m\u001b[39m.\u001b[39m_recreate_cm():\n\u001b[0;32m---> 79\u001b[0m         \u001b[39mreturn\u001b[39;00m func(\u001b[39m*\u001b[39;49margs, \u001b[39m*\u001b[39;49m\u001b[39m*\u001b[39;49mkwds)\n",
      "File \u001b[0;32m~/Documents/Work/RewardLM/.venv/lib/python3.10/site-packages/trl/trainer/ppo_trainer.py:700\u001b[0m, in \u001b[0;36mPPOTrainer.batched_forward_pass\u001b[0;34m(self, model, queries, responses, model_inputs)\u001b[0m\n\u001b[1;32m    697\u001b[0m     end \u001b[39m=\u001b[39m start \u001b[39m+\u001b[39m \u001b[39mlen\u001b[39m(response_batch[j])\n\u001b[1;32m    699\u001b[0m \u001b[39mif\u001b[39;00m \u001b[39mlen\u001b[39m(logprobs[j, start:end]) \u001b[39m<\u001b[39m \u001b[39m2\u001b[39m:\n\u001b[0;32m--> 700\u001b[0m     \u001b[39mraise\u001b[39;00m \u001b[39mValueError\u001b[39;00m(\u001b[39m\"\u001b[39m\u001b[39mResponses are too short. Make sure they are at least 4 tokens long.\u001b[39m\u001b[39m\"\u001b[39m)\n\u001b[1;32m    702\u001b[0m masks[j, :start] \u001b[39m=\u001b[39m \u001b[39m0\u001b[39m\n\u001b[1;32m    703\u001b[0m masks[j, end:] \u001b[39m=\u001b[39m \u001b[39m0\u001b[39m\n",
      "\u001b[0;31mValueError\u001b[0m: Responses are too short. Make sure they are at least 4 tokens long."
     ]
    }
   ],
   "source": [
    "import torch\n",
    "from rewardlm.core.RL.RLModel import RLModel\n",
    "from rewardlm.data.data_utils import get_DIALOCONAN_prepro\n",
    "\n",
    "rlmanager = RLModel(\n",
    "    model_id = 'EleutherAI/pythia-70m',\n",
    "    reward_model_id = 'facebook/roberta-hate-speech-dynabench-r4-target',\n",
    "    optimized = True,   # use 8-bit PEFT\n",
    "    # log_method = 'wandb',\n",
    "    bs = 32,\n",
    "    # force the use of CPU on Apple Silicon devices (mps not supported):\n",
    "    accelerator_kwargs = {\n",
    "        'cpu': False if torch.cuda.is_available() else True,\n",
    "    },\n",
    ")\n",
    "\n",
    "\n",
    "data = get_DIALOCONAN_prepro(delete_last_assistant_response = True)\n",
    "dataset = rlmanager.generate_dataset(text = data)\n",
    "\n",
    "history = rlmanager.train_PPO(dataset = dataset)"
   ]
  },
  {
   "attachments": {},
   "cell_type": "markdown",
   "metadata": {},
   "source": [
    "# 👨🏼‍🏫 Model fine-tune"
   ]
  },
  {
   "cell_type": "code",
   "execution_count": null,
   "metadata": {},
   "outputs": [],
   "source": [
    "import torch\n",
    "from rewardlm.data.data_utils import get_DIALOCONAN_prepro\n",
    "from rewardlm.core.GenerativeModel import GenerativeModel\n",
    "from rewardlm.data.CustomDatasets import PromptDataset_CLM\n",
    "\n",
    "\n",
    "# select model\n",
    "model_id = 'facebook/opt-350m'\n",
    "generator_manager = GenerativeModel(\n",
    "    model_id,\n",
    "    load_dtype = '8-bit' if torch.cuda.is_available() else 'fp32',\n",
    "    # force the use of CPU on Apple Silicon devices (mps not supported):\n",
    "    accelerator_kwargs = {\n",
    "        'cpu': False if torch.cuda.is_available() else True,\n",
    "    },\n",
    ")\n",
    "\n",
    "# download dataset\n",
    "data = get_DIALOCONAN_prepro()\n",
    "\n",
    "dataset = PromptDataset_CLM(\n",
    "    tokenizer = generator_manager.tokenizer,\n",
    "    text = data,\n",
    "    custom_prompt = custom_prompt,\n",
    ")\n",
    "\n",
    "generator_manager.fine_tune(\n",
    "    torch_dataset = dataset, \n",
    "    optimized = True if torch.cuda.is_available() else False,\n",
    ")"
   ]
  },
  {
   "attachments": {},
   "cell_type": "markdown",
   "metadata": {},
   "source": [
    "# ⚖️ ToxicityMeter"
   ]
  },
  {
   "cell_type": "code",
   "execution_count": null,
   "metadata": {},
   "outputs": [],
   "source": [
    "from transformers import GenerationConfig\n",
    "from rewardlm.ToxicityMeter import ToxicityMeter\n",
    "from rewardlm.utils.general_utils import device_selector\n",
    "\n",
    "model_id = 'bigscience/bloomz-3b'\n",
    "reward_model_id = 'facebook/roberta-hate-speech-dynabench-r4-target'\n",
    "batchsize = 16\n",
    "generation_config = GenerationConfig(\n",
    "    max_new_tokens = 25,\n",
    "    num_beams = 5,\n",
    "    early_stopping = True,\n",
    "    # crashes while using batchsize > 1 on mps device if not set:\n",
    "    pad_token_id = 0,\n",
    "    temperature = 0.8,\n",
    "    top_p = .8,\n",
    "    # diversity_penalty = .1, # should use num_beam_groups > 1\n",
    ")\n",
    "\n",
    "load_dtype = 'bf16' # can be ['8-bit', 'bf16', 'fp32']\n",
    "toxicity_meter = ToxicityMeter(\n",
    "    model_id = model_id,\n",
    "    load_dtype = load_dtype,\n",
    "    toxicity_model_id = reward_model_id,\n",
    "    device = device_selector(),\n",
    "    generation_config = generation_config,\n",
    ")"
   ]
  },
  {
   "cell_type": "code",
   "execution_count": null,
   "metadata": {},
   "outputs": [],
   "source": [
    "from rewardlm.data.data_utils import get_real_toxicity_prompts\n",
    "\n",
    "custom_prompt = ('Statement: \"{prompt}\".\\nResponse: ')\n",
    "# custom prompts required by the original paper of RedPajama\n",
    "if model_id == 'togethercomputer/RedPajama-INCITE-Chat-3B-v1':\n",
    "    custom_prompt = ('<human>: \"{prompt}\"\\n<bot>: ')\n",
    "\n",
    "toxicity_df = toxicity_meter.measure_toxicity(\n",
    "    text_prompt = get_real_toxicity_prompts()['text'].to_list(),\n",
    "    custom_prompt = custom_prompt, \n",
    "    generation_config = generation_config,\n",
    "    batch_size = batchsize,\n",
    ")"
   ]
  },
  {
   "cell_type": "code",
   "execution_count": null,
   "metadata": {},
   "outputs": [],
   "source": [
    "# save csv in tmp folder\n",
    "fld = './result analysis/tmp'\n",
    "toxicity_df.to_csv(\n",
    "    fld + f'/measured_tox_instruct_{model_id.split(\"/\")[-1]}_{load_dtype}.csv'\n",
    ")"
   ]
  }
 ],
 "metadata": {
  "kernelspec": {
   "display_name": "torch_new",
   "language": "python",
   "name": "python3"
  },
  "language_info": {
   "codemirror_mode": {
    "name": "ipython",
    "version": 3
   },
   "file_extension": ".py",
   "mimetype": "text/x-python",
   "name": "python",
   "nbconvert_exporter": "python",
   "pygments_lexer": "ipython3",
   "version": "3.10.11"
  },
  "orig_nbformat": 4
 },
 "nbformat": 4,
 "nbformat_minor": 2
}
